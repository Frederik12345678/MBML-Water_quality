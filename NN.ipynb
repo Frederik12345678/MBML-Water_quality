{
 "cells": [
  {
   "cell_type": "markdown",
   "metadata": {},
   "source": [
    "## Initialization"
   ]
  },
  {
   "cell_type": "code",
   "execution_count": 8,
   "metadata": {},
   "outputs": [],
   "source": [
    "import numpy as np\n",
    "import pandas as pd\n",
    "from matplotlib import pyplot as plt\n",
    "from sklearn import linear_model\n",
    "import seaborn as sns\n",
    "import torch\n",
    "\n",
    "import pyro\n",
    "import pyro.distributions as dist\n",
    "from pyro.contrib.autoguide import AutoDiagonalNormal, AutoMultivariateNormal\n",
    "from pyro.infer import MCMC, NUTS, HMC, SVI, Trace_ELBO\n",
    "from pyro.optim import Adam, ClippedAdam\n",
    "import itertools\n",
    "palette = itertools.cycle(sns.color_palette())\n",
    "\n",
    "# fix random generator seed (for reproducibility of results)\n",
    "np.random.seed(42)\n",
    "\n",
    "# matplotlib style options\n",
    "plt.style.use('ggplot')\n",
    "%matplotlib inline\n",
    "plt.rcParams['figure.figsize'] = (12, 8)"
   ]
  },
  {
   "cell_type": "markdown",
   "metadata": {},
   "source": [
    "## Import Data"
   ]
  },
  {
   "cell_type": "code",
   "execution_count": 9,
   "metadata": {},
   "outputs": [
    {
     "name": "stdout",
     "output_type": "stream",
     "text": [
      "x_train shape:  (1025, 13)\n",
      "y_train shape:  (1025,)\n",
      " \n",
      "x_test shape:  (303, 13)\n",
      "x_test shape:  (303,)\n"
     ]
    }
   ],
   "source": [
    "# Read the CSV file into a pandas DataFrame and display the first few rows\n",
    "path_ella = 'C:/Users/ellad/Desktop/MB_ML/Projekt/train_heart.csv'\n",
    "path_train = './train_heart.csv'\n",
    "path_test = './test_heart.csv'\n",
    "df_train = pd.read_csv(path_train)\n",
    "df_train.head()\n",
    "df_test = pd.read_csv(path_test)\n",
    "df_test.head()\n",
    "\n",
    "#_________Training____________\n",
    "mat = df_train.values\n",
    "X_train = mat[:,0:-1]\n",
    "print('x_train shape: ',X_train.shape)\n",
    "y_train = mat[:,-1].astype(\"int\")\n",
    "print('y_train shape: ',y_train.shape)\n",
    "ind = mat[:,1].astype(\"int\")  #and get the indexes\n",
    "#print(ind.shape)\n",
    "\n",
    "# standardize input features\n",
    "X_mean = X_train.mean(axis=0)\n",
    "X_std = X_train.std(axis=0)\n",
    "X_train = (X_train - X_mean) / X_std\n",
    "#print(X_train.shape)\n",
    "\n",
    "print(' ')\n",
    "#_________Test____________\n",
    "mat = df_test.values\n",
    "X_test = mat[:,0:-1]\n",
    "print('x_test shape: ',X_test.shape)\n",
    "y_test = mat[:,-1].astype(\"int\")\n",
    "print('x_test shape: ',y_test.shape)\n",
    "ind = mat[:,1].astype(\"int\")  #and get the indexes\n",
    "#print(ind.shape)\n",
    "\n",
    "# standardize input features\n",
    "X_mean = X_test.mean(axis=0)\n",
    "X_std = X_test.std(axis=0)\n",
    "X_test = (X_test - X_mean) / X_std\n",
    "#print(X_test.shape)"
   ]
  },
  {
   "cell_type": "markdown",
   "metadata": {},
   "source": [
    "## NN Model"
   ]
  },
  {
   "cell_type": "code",
   "execution_count": 10,
   "metadata": {},
   "outputs": [],
   "source": [
    "from pyro.nn import PyroModule, PyroSample\n",
    "import torch.nn as nn\n",
    "class FFNN(PyroModule):\n",
    "    def __init__(self, n_in, n_hidden, n_out):\n",
    "        super(FFNN, self).__init__()\n",
    "        \n",
    "        # Architecture\n",
    "        self.in_layer = PyroModule[nn.Linear](n_in, n_hidden)\n",
    "        self.in_layer.weight = PyroSample(dist.Normal(0., 1.).expand([n_hidden, n_in]).to_event(2))\n",
    "\n",
    "        self.h_layer = PyroModule[nn.Linear](n_hidden, n_hidden)\n",
    "        self.h_layer.weight = PyroSample(dist.Normal(0., 1.).expand([n_hidden, n_hidden]).to_event(2))\n",
    "\n",
    "        self.out_layer = PyroModule[nn.Linear](n_hidden, n_out)\n",
    "        self.out_layer.weight = PyroSample(dist.Normal(0., 1.).expand([n_out, n_hidden]).to_event(2))\n",
    "\n",
    "        # Activation functions\n",
    "        self.tanh = nn.Tanh()\n",
    "        \n",
    "    def forward(self, X, y=None):\n",
    "        X = self.tanh(self.in_layer(X))\n",
    "        X = self.tanh(self.h_layer(X))\n",
    "        X = self.out_layer(X)\n",
    "        prediction_mean = X.squeeze(-1)\n",
    "\n",
    "        \"\"\"\n",
    "        with pyro.plate(\"observations\"):\n",
    "            y = pyro.sample(\"obs\", dist.Categorical(logits=alpha + X.matmul(beta)), obs=y)\n",
    "        \"\"\"\n",
    "\n",
    "        with pyro.plate(\"observations\"):\n",
    "            y = pyro.sample(\"obs\", dist.Bernoulli(logits=prediction_mean), obs=y)\n",
    "            \n",
    "        return y"
   ]
  },
  {
   "cell_type": "code",
   "execution_count": 11,
   "metadata": {},
   "outputs": [],
   "source": [
    "X = torch.tensor(X_train).float()\n",
    "y = torch.tensor(y_train).float()\n"
   ]
  },
  {
   "cell_type": "code",
   "execution_count": 12,
   "metadata": {},
   "outputs": [],
   "source": [
    "# Define guide function\n",
    "model = FFNN(n_in=X.shape[1], n_hidden=4, n_out=1)\n",
    "guide = AutoDiagonalNormal(model)\n",
    "pyro.clear_param_store()"
   ]
  },
  {
   "cell_type": "code",
   "execution_count": 17,
   "metadata": {},
   "outputs": [
    {
     "name": "stdout",
     "output_type": "stream",
     "text": [
      "[0] ELBO: 331.7\n",
      "[1000] ELBO: 328.7\n",
      "[2000] ELBO: 334.5\n",
      "[3000] ELBO: 328.6\n",
      "[4000] ELBO: 343.6\n",
      "[5000] ELBO: 340.4\n",
      "[6000] ELBO: 331.7\n",
      "[7000] ELBO: 337.9\n",
      "[8000] ELBO: 324.3\n",
      "[9000] ELBO: 315.6\n"
     ]
    }
   ],
   "source": [
    "# Define the number of optimization steps\n",
    "n_steps = 10000\n",
    "\n",
    "# Setup the optimizer\n",
    "adam_params = {\"lr\": 0.005}\n",
    "optimizer = Adam(adam_params)\n",
    "\n",
    "# Setup the inference algorithm\n",
    "elbo = Trace_ELBO(num_particles=1)\n",
    "svi = SVI(model, guide, optimizer, loss=elbo)\n",
    "\n",
    "# Do gradient steps\n",
    "for step in range(n_steps):\n",
    "    elbo = svi.step(X, y)\n",
    "    if step % 1000 == 0:\n",
    "        print(\"[%d] ELBO: %.1f\" % (step, elbo))"
   ]
  },
  {
   "cell_type": "code",
   "execution_count": 18,
   "metadata": {},
   "outputs": [
    {
     "name": "stderr",
     "output_type": "stream",
     "text": [
      "/var/folders/rl/2d6x2yy927z8k4n7s2v1ng3m0000gn/T/ipykernel_80657/3383048768.py:2: UserWarning: To copy construct from a tensor, it is recommended to use sourceTensor.clone().detach() or sourceTensor.clone().detach().requires_grad_(True), rather than torch.tensor(sourceTensor).\n",
      "  X_test = torch.tensor(X_test).float()\n"
     ]
    },
    {
     "name": "stdout",
     "output_type": "stream",
     "text": [
      "MAE: 0.07260726072607261\n",
      "Accuracy: 0.9273927392739274\n"
     ]
    }
   ],
   "source": [
    "# Prepare test data for Pyro\n",
    "X_test = torch.tensor(X_test).float()\n",
    "\n",
    "from pyro.infer import Predictive\n",
    "predictive = Predictive(model, guide=guide, num_samples=1000,\n",
    "                        return_sites=(\"obs\", \"_RETURN\"))\n",
    "samples = predictive(X_test)\n",
    "\n",
    "samples = samples['obs'].detach().squeeze()\n",
    "y_hat = np.round(samples.mean(axis=0).numpy())\n",
    "\n",
    "mae = np.mean(np.abs(y_test - y_hat))\n",
    "print(\"MAE:\", mae)\n",
    "print(\"Accuracy:\", 1.0*np.sum((y_hat) == y_test) / len(y_test))\n"
   ]
  }
 ],
 "metadata": {
  "kernelspec": {
   "display_name": "base",
   "language": "python",
   "name": "python3"
  },
  "language_info": {
   "codemirror_mode": {
    "name": "ipython",
    "version": 3
   },
   "file_extension": ".py",
   "mimetype": "text/x-python",
   "name": "python",
   "nbconvert_exporter": "python",
   "pygments_lexer": "ipython3",
   "version": "3.9.18"
  }
 },
 "nbformat": 4,
 "nbformat_minor": 2
}
