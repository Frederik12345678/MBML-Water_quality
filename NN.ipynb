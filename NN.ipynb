{
 "cells": [
  {
   "cell_type": "markdown",
   "metadata": {},
   "source": [
    "## Initialization"
   ]
  },
  {
   "cell_type": "code",
   "execution_count": 1,
   "metadata": {},
   "outputs": [],
   "source": [
    "import numpy as np\n",
    "import pandas as pd\n",
    "from matplotlib import pyplot as plt\n",
    "from sklearn import linear_model\n",
    "import seaborn as sns\n",
    "import torch\n",
    "\n",
    "import pyro\n",
    "import pyro.distributions as dist\n",
    "from pyro.contrib.autoguide import AutoDiagonalNormal, AutoMultivariateNormal\n",
    "from pyro.infer import MCMC, NUTS, HMC, SVI, Trace_ELBO\n",
    "from pyro.optim import Adam, ClippedAdam\n",
    "import itertools\n",
    "palette = itertools.cycle(sns.color_palette())\n",
    "\n",
    "# fix random generator seed (for reproducibility of results)\n",
    "np.random.seed(42)\n",
    "\n",
    "# matplotlib style options\n",
    "plt.style.use('ggplot')\n",
    "%matplotlib inline\n",
    "plt.rcParams['figure.figsize'] = (12, 8)"
   ]
  },
  {
   "cell_type": "markdown",
   "metadata": {},
   "source": [
    "## Import Data"
   ]
  },
  {
   "cell_type": "code",
   "execution_count": 2,
   "metadata": {},
   "outputs": [
    {
     "name": "stdout",
     "output_type": "stream",
     "text": [
      "x_train shape:  (1025, 13)\n",
      "y_train shape:  (1025,)\n",
      " \n",
      "x_test shape:  (303, 13)\n",
      "x_test shape:  (303,)\n"
     ]
    }
   ],
   "source": [
    "# Read the CSV file into a pandas DataFrame and display the first few rows\n",
    "path_ella = 'C:/Users/ellad/Desktop/MB_ML/Projekt/train_heart.csv'\n",
    "path_train = './train_heart.csv'\n",
    "path_test = './test_heart.csv'\n",
    "df_train = pd.read_csv(path_train)\n",
    "df_train.head()\n",
    "df_test = pd.read_csv(path_test)\n",
    "df_test.head()\n",
    "\n",
    "#_________Training____________\n",
    "mat = df_train.values\n",
    "X_train = mat[:,0:-1]\n",
    "print('x_train shape: ',X_train.shape)\n",
    "y_train = mat[:,-1].astype(\"int\")\n",
    "print('y_train shape: ',y_train.shape)\n",
    "ind = mat[:,1].astype(\"int\")  #and get the indexes\n",
    "#print(ind.shape)\n",
    "\n",
    "# standardize input features\n",
    "X_mean = X_train.mean(axis=0)\n",
    "X_std = X_train.std(axis=0)\n",
    "X_train = (X_train - X_mean) / X_std\n",
    "#print(X_train.shape)\n",
    "\n",
    "print(' ')\n",
    "#_________Test____________\n",
    "mat = df_test.values\n",
    "X_test = mat[:,0:-1]\n",
    "print('x_test shape: ',X_test.shape)\n",
    "y_test = mat[:,-1].astype(\"int\")\n",
    "print('x_test shape: ',y_test.shape)\n",
    "ind = mat[:,1].astype(\"int\")  #and get the indexes\n",
    "#print(ind.shape)\n",
    "\n",
    "# standardize input features\n",
    "X_mean = X_test.mean(axis=0)\n",
    "X_std = X_test.std(axis=0)\n",
    "X_test = (X_test - X_mean) / X_std\n",
    "#print(X_test.shape)"
   ]
  },
  {
   "cell_type": "markdown",
   "metadata": {},
   "source": [
    "## NN Model"
   ]
  },
  {
   "cell_type": "code",
   "execution_count": 3,
   "metadata": {},
   "outputs": [],
   "source": [
    "from pyro.nn import PyroModule, PyroSample\n",
    "import torch.nn as nn\n",
    "class FFNN(PyroModule):\n",
    "    def __init__(self, n_in, n_hidden, n_out):\n",
    "        super(FFNN, self).__init__()\n",
    "        \n",
    "        # Architecture\n",
    "        self.in_layer = PyroModule[nn.Linear](n_in, n_hidden)\n",
    "        self.in_layer.weight = PyroSample(dist.Normal(0., 1.).expand([n_hidden, n_in]).to_event(2))\n",
    "\n",
    "        self.h_layer = PyroModule[nn.Linear](n_hidden, n_hidden)\n",
    "        self.h_layer.weight = PyroSample(dist.Normal(0., 1.).expand([n_hidden, n_hidden]).to_event(2))\n",
    "\n",
    "        self.out_layer = PyroModule[nn.Linear](n_hidden, n_out)\n",
    "        self.out_layer.weight = PyroSample(dist.Normal(0., 1.).expand([n_out, n_hidden]).to_event(2))\n",
    "\n",
    "        # Activation functions\n",
    "        self.tanh = nn.Tanh()\n",
    "        \n",
    "    def forward(self, X, y=None):\n",
    "        X = self.tanh(self.in_layer(X))\n",
    "        X = self.tanh(self.h_layer(X))\n",
    "        X = self.out_layer(X)\n",
    "        prediction_mean = X.squeeze(-1)\n",
    "\n",
    "        \"\"\"\n",
    "        with pyro.plate(\"observations\"):\n",
    "            y = pyro.sample(\"obs\", dist.Categorical(logits=alpha + X.matmul(beta)), obs=y)\n",
    "        \"\"\"\n",
    "\n",
    "        with pyro.plate(\"observations\"):\n",
    "            y = pyro.sample(\"obs\", dist.Bernoulli(logits=prediction_mean), obs=y)\n",
    "            \n",
    "        return y"
   ]
  },
  {
   "cell_type": "code",
   "execution_count": 4,
   "metadata": {},
   "outputs": [],
   "source": [
    "X = torch.tensor(X_train).float()\n",
    "y = torch.tensor(y_train).float()\n"
   ]
  },
  {
   "cell_type": "code",
   "execution_count": 5,
   "metadata": {},
   "outputs": [],
   "source": [
    "# Define guide function\n",
    "model = FFNN(n_in=X.shape[1], n_hidden=4, n_out=1)\n",
    "guide = AutoDiagonalNormal(model)\n",
    "pyro.clear_param_store()"
   ]
  },
  {
   "cell_type": "code",
   "execution_count": 6,
   "metadata": {},
   "outputs": [
    {
     "name": "stdout",
     "output_type": "stream",
     "text": [
      "[0] ELBO: 861.3\n",
      "[500] ELBO: 379.8\n",
      "[1000] ELBO: 347.8\n",
      "[1500] ELBO: 342.7\n",
      "[2000] ELBO: 318.5\n",
      "[2500] ELBO: 323.7\n",
      "[3000] ELBO: 327.5\n",
      "[3500] ELBO: 316.3\n",
      "[4000] ELBO: 319.4\n",
      "[4500] ELBO: 306.6\n",
      "[5000] ELBO: 310.7\n",
      "[5500] ELBO: 306.2\n",
      "[6000] ELBO: 300.4\n",
      "[6500] ELBO: 306.7\n",
      "[7000] ELBO: 315.4\n",
      "[7500] ELBO: 314.3\n",
      "[8000] ELBO: 316.2\n",
      "[8500] ELBO: 339.2\n",
      "[9000] ELBO: 301.3\n",
      "[9500] ELBO: 297.0\n"
     ]
    }
   ],
   "source": [
    "# Define the number of optimization steps\n",
    "n_steps = 10000\n",
    "\n",
    "# Setup the optimizer\n",
    "adam_params = {\"lr\": 0.01}\n",
    "optimizer = Adam(adam_params)\n",
    "\n",
    "# Setup the inference algorithm\n",
    "elbo = Trace_ELBO(num_particles=1)\n",
    "svi = SVI(model, guide, optimizer, loss=elbo)\n",
    "\n",
    "# Do gradient steps\n",
    "for step in range(n_steps):\n",
    "    elbo = svi.step(X, y)\n",
    "    if step % 500 == 0:\n",
    "        print(\"[%d] ELBO: %.1f\" % (step, elbo))"
   ]
  },
  {
   "cell_type": "code",
   "execution_count": 7,
   "metadata": {},
   "outputs": [
    {
     "name": "stdout",
     "output_type": "stream",
     "text": [
      "MAE: 0.036303630363036306\n",
      "Accuracy: 0.9636963696369637\n"
     ]
    }
   ],
   "source": [
    "# Prepare test data for Pyro\n",
    "X_test = torch.tensor(X_test).float()\n",
    "\n",
    "from pyro.infer import Predictive\n",
    "predictive = Predictive(model, guide=guide, num_samples=1000,\n",
    "                        return_sites=(\"obs\", \"_RETURN\"))\n",
    "samples = predictive(X_test)\n",
    "\n",
    "samples = samples['obs'].detach().squeeze()\n",
    "y_hat = np.round(samples.mean(axis=0).numpy())\n",
    "\n",
    "mae = np.mean(np.abs(y_test - y_hat))\n",
    "print(\"MAE:\", mae)\n",
    "print(\"Accuracy:\", 1.0*np.sum((y_hat) == y_test) / len(y_test))\n"
   ]
  }
 ],
 "metadata": {
  "kernelspec": {
   "display_name": "base",
   "language": "python",
   "name": "python3"
  },
  "language_info": {
   "codemirror_mode": {
    "name": "ipython",
    "version": 3
   },
   "file_extension": ".py",
   "mimetype": "text/x-python",
   "name": "python",
   "nbconvert_exporter": "python",
   "pygments_lexer": "ipython3",
   "version": "3.9.18"
  }
 },
 "nbformat": 4,
 "nbformat_minor": 2
}
