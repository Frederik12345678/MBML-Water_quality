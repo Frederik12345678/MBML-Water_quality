{
 "cells": [
  {
   "cell_type": "markdown",
   "metadata": {},
   "source": [
    "## Initialization"
   ]
  },
  {
   "cell_type": "code",
   "execution_count": 1,
   "metadata": {},
   "outputs": [],
   "source": [
    "import numpy as np\n",
    "import pandas as pd\n",
    "from matplotlib import pyplot as plt\n",
    "from sklearn import linear_model\n",
    "import seaborn as sns\n",
    "import torch\n",
    "\n",
    "import pyro\n",
    "import pyro.distributions as dist\n",
    "from pyro.contrib.autoguide import AutoDiagonalNormal, AutoMultivariateNormal\n",
    "from pyro.infer import MCMC, NUTS, HMC, SVI, Trace_ELBO\n",
    "from pyro.optim import Adam, ClippedAdam\n",
    "import itertools\n",
    "palette = itertools.cycle(sns.color_palette())\n",
    "from func import get_data\n",
    "# fix random generator seed (for reproducibility of results)\n",
    "np.random.seed(42)\n",
    "\n",
    "# matplotlib style options\n",
    "plt.style.use('ggplot')\n",
    "%matplotlib inline\n",
    "plt.rcParams['figure.figsize'] = (12, 8)"
   ]
  },
  {
   "cell_type": "markdown",
   "metadata": {},
   "source": [
    "## Import Data"
   ]
  },
  {
   "cell_type": "code",
   "execution_count": 2,
   "metadata": {},
   "outputs": [
    {
     "name": "stdout",
     "output_type": "stream",
     "text": [
      "Training Dataset size: 1025\n",
      "Test Dataset size: 303\n",
      "Training data shape:  (1025, 30)\n",
      "Test data shape:  (303, 30)\n"
     ]
    }
   ],
   "source": [
    "# Read the CSV file into a pandas DataFrame and display the first few rows\n",
    "path_ella = 'C:/Users/ellad/Desktop/MB_ML/Projekt/train_heart.csv'\n",
    "path_train = './train_heart.csv'\n",
    "path_test = './test_heart.csv'\n",
    "\n",
    "col = ['sex','cp','fbs','restecg','exang','slope','ca','thal']\n",
    "\n",
    "[X_train,y_train,X_test,y_test,age,feature_name] = get_data(False,True)\n",
    "\n",
    "\n",
    "print(\"Training Dataset size:\", len(X_train))\n",
    "print(\"Test Dataset size:\", len(X_test))\n",
    "\n",
    "print('Training data shape: ',X_train.shape)\n",
    "print('Test data shape: ',X_test.shape)"
   ]
  },
  {
   "cell_type": "code",
   "execution_count": 3,
   "metadata": {},
   "outputs": [
    {
     "name": "stdout",
     "output_type": "stream",
     "text": [
      "(1025, 28)\n",
      "(1025, 2)\n"
     ]
    }
   ],
   "source": [
    "X_nn_1 = X_train[:,0:5]\n",
    "X_nn_2 = X_train[:,7:]\n",
    "X_nn = np.hstack([X_nn_1,X_nn_2])\n",
    "\n",
    "X_linear = X_train[:,5:7]\n",
    "\n",
    "print(X_nn.shape)\n",
    "print(X_linear.shape)\n",
    "\n",
    "# print(feature_name)\n",
    "#  print(feature_name[5])  - Sex 0\n",
    "#  print(feature_name[6])  - Sex 1\n",
    "# print(feature_name[5:7])\n",
    "\n",
    "# print(feature_name[0:5])\n",
    "# print(feature_name[7:])\n",
    "\n",
    "# print(np.hstack([feature_name[0:5],feature_name[7:]]).shape)\n",
    "\n",
    "\n",
    "\n",
    "\n",
    "\n"
   ]
  },
  {
   "cell_type": "markdown",
   "metadata": {},
   "source": [
    "## NN Model"
   ]
  },
  {
   "cell_type": "code",
   "execution_count": 4,
   "metadata": {},
   "outputs": [],
   "source": [
    "from pyro.nn import PyroModule, PyroSample\n",
    "import torch.nn as nn\n",
    "class FFNN(PyroModule):\n",
    "    def __init__(self, n_in, n_hidden, n_out):\n",
    "        super(FFNN, self).__init__()\n",
    "        \n",
    "        # Architecture\n",
    "        self.in_layer = PyroModule[nn.Linear](n_in, n_hidden)\n",
    "        self.in_layer.weight = PyroSample(dist.Normal(0., 1.).expand([n_hidden, n_in]).to_event(2))\n",
    "\n",
    "        self.h_layer = PyroModule[nn.Linear](n_hidden, n_hidden)\n",
    "        self.h_layer.weight = PyroSample(dist.Normal(0., 1.).expand([n_hidden, n_hidden]).to_event(2))\n",
    "\n",
    "        self.out_layer = PyroModule[nn.Linear](n_hidden, n_out)\n",
    "        self.out_layer.weight = PyroSample(dist.Normal(0., 1.).expand([n_out, n_hidden]).to_event(2))\n",
    "\n",
    "        # Activation functions\n",
    "        self.tanh = nn.Tanh()\n",
    "        \n",
    "    def forward(self, X, y=None):\n",
    "        X = self.tanh(self.in_layer(X))\n",
    "        X = self.tanh(self.h_layer(X))\n",
    "        X = self.out_layer(X)\n",
    "        prediction_mean = X.squeeze(-1)\n",
    "\n",
    "        \"\"\"\n",
    "        with pyro.plate(\"observations\"):\n",
    "            y = pyro.sample(\"obs\", dist.Categorical(logits=alpha + X.matmul(beta)), obs=y)\n",
    "        \"\"\"\n",
    "\n",
    "        with pyro.plate(\"observations\"):\n",
    "            y = pyro.sample(\"obs\", dist.Bernoulli(logits=prediction_mean), obs=y)\n",
    "            \n",
    "        return y"
   ]
  },
  {
   "cell_type": "code",
   "execution_count": 5,
   "metadata": {},
   "outputs": [],
   "source": [
    "X = torch.tensor(X_train.astype('float')).float()\n",
    "y = torch.tensor(y_train).float()\n"
   ]
  },
  {
   "cell_type": "code",
   "execution_count": 6,
   "metadata": {},
   "outputs": [],
   "source": [
    "# Define guide function\n",
    "model = FFNN(n_in=X.shape[1], n_hidden=4, n_out=1)\n",
    "guide = AutoDiagonalNormal(model)\n",
    "pyro.clear_param_store()"
   ]
  },
  {
   "cell_type": "code",
   "execution_count": 7,
   "metadata": {},
   "outputs": [
    {
     "name": "stdout",
     "output_type": "stream",
     "text": [
      "[0] ELBO: 961.0\n",
      "[1000] ELBO: 383.1\n",
      "[2000] ELBO: 363.9\n",
      "[3000] ELBO: 366.8\n",
      "[4000] ELBO: 353.3\n",
      "[5000] ELBO: 351.5\n",
      "[6000] ELBO: 362.2\n",
      "[7000] ELBO: 371.2\n",
      "[8000] ELBO: 340.6\n",
      "[9000] ELBO: 385.7\n",
      "[10000] ELBO: 346.0\n",
      "[11000] ELBO: 337.3\n",
      "[12000] ELBO: 341.5\n",
      "[13000] ELBO: 368.9\n",
      "[14000] ELBO: 383.6\n",
      "[15000] ELBO: 347.0\n",
      "[16000] ELBO: 342.6\n",
      "[17000] ELBO: 359.7\n",
      "[18000] ELBO: 310.3\n",
      "[19000] ELBO: 352.8\n"
     ]
    }
   ],
   "source": [
    "# Define the number of optimization steps\n",
    "n_steps = 20000\n",
    "\n",
    "# Setup the optimizer\n",
    "adam_params = {\"lr\": 0.01}\n",
    "optimizer = Adam(adam_params)\n",
    "\n",
    "# Setup the inference algorithm\n",
    "elbo = Trace_ELBO(num_particles=1)\n",
    "svi = SVI(model, guide, optimizer, loss=elbo)\n",
    "\n",
    "# Do gradient steps\n",
    "for step in range(n_steps):\n",
    "    elbo = svi.step(X, y)\n",
    "    if step % 1000 == 0:\n",
    "        print(\"[%d] ELBO: %.1f\" % (step, elbo))"
   ]
  },
  {
   "cell_type": "code",
   "execution_count": 8,
   "metadata": {},
   "outputs": [
    {
     "name": "stdout",
     "output_type": "stream",
     "text": [
      "MAE: 0.0231023102310231\n",
      "Accuracy: 0.976897689768977\n"
     ]
    }
   ],
   "source": [
    "# Prepare test data for Pyro\n",
    "X_test_tensor = torch.tensor(X_test.astype('float')).float()\n",
    "\n",
    "from pyro.infer import Predictive\n",
    "predictive = Predictive(model, guide=guide, num_samples=1000,\n",
    "                        return_sites=(\"obs\", \"_RETURN\"))\n",
    "samples = predictive(X_test_tensor)\n",
    "\n",
    "samples = samples['obs'].detach().squeeze()\n",
    "y_hat = np.round(samples.mean(axis=0).numpy())\n",
    "\n",
    "mae = np.mean(np.abs(y_test - y_hat))\n",
    "print(\"MAE:\", mae)\n",
    "print(\"Accuracy:\", 1.0*np.sum((y_hat) == y_test) / len(y_test))\n"
   ]
  },
  {
   "cell_type": "markdown",
   "metadata": {},
   "source": [
    "## Neural Network + Linear Model"
   ]
  },
  {
   "cell_type": "code",
   "execution_count": 9,
   "metadata": {},
   "outputs": [],
   "source": [
    "class FFNN_Lin(PyroModule):\n",
    "    def __init__(self, n_in, n_hidden, n_out):\n",
    "        super(FFNN_Lin, self).__init__()\n",
    "        \n",
    "        # Architecture\n",
    "        self.in_layer = PyroModule[nn.Linear](n_in, n_hidden)\n",
    "        self.in_layer.weight = PyroSample(dist.Normal(0., 1.).expand([n_hidden, n_in]).to_event(2))\n",
    "\n",
    "        self.h_layer = PyroModule[nn.Linear](n_hidden, n_hidden)\n",
    "        self.h_layer.weight = PyroSample(dist.Normal(0., 1.).expand([n_hidden, n_hidden]).to_event(2))\n",
    "\n",
    "        self.out_layer = PyroModule[nn.Linear](n_hidden, n_out)\n",
    "        self.out_layer.weight = PyroSample(dist.Normal(0., 1.).expand([n_out, n_hidden]).to_event(2))\n",
    "\n",
    "        # Activation functions\n",
    "        self.tanh = nn.Tanh()\n",
    "        \n",
    "    def forward(self, X, y=None):\n",
    "        X_nn_1 = X[:,0:5]\n",
    "        X_nn_2 = X[:,7:]\n",
    "        X_nn = torch.tensor(np.hstack([X_nn_1,X_nn_2]))\n",
    "        \n",
    "        #print(X_nn.shape)\n",
    "        X_nn_old = X[:,1:]\n",
    "        #print(X_nn_old.shape)\n",
    "\n",
    "        X_nn = self.tanh(self.in_layer(X_nn))\n",
    "        X_nn = self.tanh(self.h_layer(X_nn))\n",
    "        X_nn = self.out_layer(X_nn)\n",
    "        nn_out = X_nn.squeeze(-1)\n",
    "        #print('nn_out: ', nn_out.shape)\n",
    "\n",
    "\n",
    "        beta_lin = pyro.sample(\"beta\", dist.Normal(torch.zeros(2), torch.ones(2)).to_event())\n",
    "        #print('beta par: ', beta_lin)\n",
    "        X_linear = X[:,5:7]\n",
    "        #print('Lin: ', X_linear.shape)\n",
    "\n",
    "        with pyro.plate(\"observations\"):\n",
    "            linear_out = X_linear@beta_lin\n",
    "            #print('Lin out: ', linear_out.shape)\n",
    "            y = pyro.sample(\"obs\", dist.Normal(nn_out+linear_out, 0.1), obs=y)\n",
    "            \n",
    "        return y"
   ]
  },
  {
   "cell_type": "code",
   "execution_count": 10,
   "metadata": {},
   "outputs": [
    {
     "name": "stdout",
     "output_type": "stream",
     "text": [
      "[0] ELBO: 70933.7\n",
      "[500] ELBO: 1787.5\n",
      "[1000] ELBO: 461.8\n",
      "[1500] ELBO: 278.4\n",
      "[2000] ELBO: 199.5\n",
      "[2500] ELBO: 225.0\n",
      "[3000] ELBO: 94.5\n",
      "[3500] ELBO: 85.3\n",
      "[4000] ELBO: 86.8\n",
      "[4500] ELBO: 139.3\n",
      "[5000] ELBO: 72.4\n",
      "[5500] ELBO: 114.1\n",
      "[6000] ELBO: 139.2\n",
      "[6500] ELBO: 88.0\n",
      "[7000] ELBO: 224.3\n",
      "[7500] ELBO: 259.2\n",
      "[8000] ELBO: 87.3\n",
      "[8500] ELBO: 45.1\n",
      "[9000] ELBO: 164.5\n",
      "[9500] ELBO: 50.8\n",
      "[10000] ELBO: 74.5\n",
      "[10500] ELBO: 52.4\n",
      "[11000] ELBO: 43.6\n",
      "[11500] ELBO: 99.8\n",
      "[12000] ELBO: 129.7\n",
      "[12500] ELBO: 99.0\n",
      "[13000] ELBO: 145.5\n",
      "[13500] ELBO: 92.5\n",
      "[14000] ELBO: 86.7\n",
      "[14500] ELBO: 32.5\n",
      "[15000] ELBO: 91.3\n",
      "[15500] ELBO: 36.3\n",
      "[16000] ELBO: -20.5\n",
      "[16500] ELBO: 64.4\n",
      "[17000] ELBO: -73.8\n",
      "[17500] ELBO: 93.5\n",
      "[18000] ELBO: -54.2\n",
      "[18500] ELBO: -98.7\n",
      "[19000] ELBO: -32.9\n",
      "[19500] ELBO: 181.4\n"
     ]
    }
   ],
   "source": [
    "# Define guide function\n",
    "model = FFNN_Lin(n_in=X.shape[1]-2, n_hidden=4, n_out=1) \n",
    "guide = AutoDiagonalNormal(model)\n",
    "\n",
    "# Reset parameter values\n",
    "pyro.clear_param_store()\n",
    "\n",
    "# Define the number of optimization steps\n",
    "n_steps = 20000\n",
    "\n",
    "# Setup the optimizer\n",
    "adam_params = {\"lr\": 0.01}\n",
    "optimizer = ClippedAdam(adam_params)\n",
    "\n",
    "# Setup the inference algorithm\n",
    "elbo = Trace_ELBO(num_particles=1)\n",
    "svi = SVI(model, guide, optimizer, loss=elbo)\n",
    "\n",
    "# Do gradient steps\n",
    "for step in range(n_steps):\n",
    "    elbo = svi.step(X, y)\n",
    "    if step % 500 == 0:\n",
    "        print(\"[%d] ELBO: %.1f\" % (step, elbo))"
   ]
  },
  {
   "cell_type": "code",
   "execution_count": 11,
   "metadata": {},
   "outputs": [],
   "source": [
    "from pyro.infer import Predictive\n",
    "\n",
    "# Get posterior samples for beta\n",
    "predictive = Predictive(model, guide=guide, num_samples=1000,\n",
    "                        return_sites=(\"beta\",))\n",
    "samples = predictive(X, y)"
   ]
  },
  {
   "cell_type": "code",
   "execution_count": 12,
   "metadata": {},
   "outputs": [
    {
     "name": "stdout",
     "output_type": "stream",
     "text": [
      "Estimated beta: [ 0.01049766 -0.02890764]\n"
     ]
    }
   ],
   "source": [
    "print(\"Estimated beta:\", samples[\"beta\"].mean(axis=0).detach().numpy()[0])\n"
   ]
  },
  {
   "cell_type": "code",
   "execution_count": 13,
   "metadata": {},
   "outputs": [
    {
     "name": "stdout",
     "output_type": "stream",
     "text": [
      "MAE: 0.0165016501650165\n",
      "Accuracy: 0.9834983498349835\n"
     ]
    }
   ],
   "source": [
    "from pyro.infer import Predictive\n",
    "predictive = Predictive(model, guide=guide, num_samples=1000,\n",
    "                        return_sites=(\"obs\", \"_RETURN\"))\n",
    "samples = predictive(X_test_tensor)\n",
    "\n",
    "samples = samples['obs'].detach().squeeze()\n",
    "y_hat = np.round(samples.mean(axis=0).numpy())\n",
    "\n",
    "mae = np.mean(np.abs(y_test - y_hat))\n",
    "print(\"MAE:\", mae)\n",
    "print(\"Accuracy:\", 1.0*np.sum((y_hat) == y_test) / len(y_test))"
   ]
  }
 ],
 "metadata": {
  "kernelspec": {
   "display_name": "base",
   "language": "python",
   "name": "python3"
  },
  "language_info": {
   "codemirror_mode": {
    "name": "ipython",
    "version": 3
   },
   "file_extension": ".py",
   "mimetype": "text/x-python",
   "name": "python",
   "nbconvert_exporter": "python",
   "pygments_lexer": "ipython3",
   "version": "3.9.18"
  }
 },
 "nbformat": 4,
 "nbformat_minor": 2
}
