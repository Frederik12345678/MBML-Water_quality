{
 "cells": [
  {
   "cell_type": "markdown",
   "metadata": {},
   "source": [
    "## Initialization"
   ]
  },
  {
   "cell_type": "code",
   "execution_count": 1,
   "metadata": {},
   "outputs": [],
   "source": [
    "import numpy as np\n",
    "import pandas as pd\n",
    "from matplotlib import pyplot as plt\n",
    "from sklearn import linear_model\n",
    "import seaborn as sns\n",
    "import torch\n",
    "\n",
    "import pyro\n",
    "import pyro.distributions as dist\n",
    "from pyro.contrib.autoguide import AutoDiagonalNormal, AutoMultivariateNormal\n",
    "from pyro.infer import MCMC, NUTS, HMC, SVI, Trace_ELBO\n",
    "from pyro.optim import Adam, ClippedAdam\n",
    "import itertools\n",
    "palette = itertools.cycle(sns.color_palette())\n",
    "from func import get_data\n",
    "# fix random generator seed (for reproducibility of results)\n",
    "np.random.seed(42)\n",
    "\n",
    "# matplotlib style options\n",
    "plt.style.use('ggplot')\n",
    "%matplotlib inline\n",
    "plt.rcParams['figure.figsize'] = (12, 8)"
   ]
  },
  {
   "cell_type": "markdown",
   "metadata": {},
   "source": [
    "## Import Data"
   ]
  },
  {
   "cell_type": "code",
   "execution_count": 2,
   "metadata": {},
   "outputs": [
    {
     "name": "stdout",
     "output_type": "stream",
     "text": [
      "Training Dataset size: 1025\n",
      "Test Dataset size: 303\n",
      "Training data shape:  (1025, 30)\n",
      "Test data shape:  (303, 30)\n"
     ]
    }
   ],
   "source": [
    "# Read the CSV file into a pandas DataFrame and display the first few rows\n",
    "path_ella = 'C:/Users/ellad/Desktop/MB_ML/Projekt/train_heart.csv'\n",
    "path_train = './train_heart.csv'\n",
    "path_test = './test_heart.csv'\n",
    "\n",
    "col = ['sex','cp','fbs','restecg','exang','slope','ca','thal']\n",
    "\n",
    "[X_train,y_train,X_test,y_test] = get_data(path_train,path_test,col)\n",
    "\n",
    "\n",
    "print(\"Training Dataset size:\", len(X_train))\n",
    "print(\"Test Dataset size:\", len(X_test))\n",
    "\n",
    "print('Training data shape: ',X_train.shape)\n",
    "print('Test data shape: ',X_test.shape)"
   ]
  },
  {
   "cell_type": "markdown",
   "metadata": {},
   "source": [
    "## NN Model"
   ]
  },
  {
   "cell_type": "code",
   "execution_count": 3,
   "metadata": {},
   "outputs": [],
   "source": [
    "from pyro.nn import PyroModule, PyroSample\n",
    "import torch.nn as nn\n",
    "class FFNN(PyroModule):\n",
    "    def __init__(self, n_in, n_hidden, n_out):\n",
    "        super(FFNN, self).__init__()\n",
    "        \n",
    "        # Architecture\n",
    "        self.in_layer = PyroModule[nn.Linear](n_in, n_hidden)\n",
    "        self.in_layer.weight = PyroSample(dist.Normal(0., 1.).expand([n_hidden, n_in]).to_event(2))\n",
    "\n",
    "        self.h_layer = PyroModule[nn.Linear](n_hidden, n_hidden)\n",
    "        self.h_layer.weight = PyroSample(dist.Normal(0., 1.).expand([n_hidden, n_hidden]).to_event(2))\n",
    "\n",
    "        self.out_layer = PyroModule[nn.Linear](n_hidden, n_out)\n",
    "        self.out_layer.weight = PyroSample(dist.Normal(0., 1.).expand([n_out, n_hidden]).to_event(2))\n",
    "\n",
    "        # Activation functions\n",
    "        self.tanh = nn.Tanh()\n",
    "        \n",
    "    def forward(self, X, y=None):\n",
    "        X = self.tanh(self.in_layer(X))\n",
    "        X = self.tanh(self.h_layer(X))\n",
    "        X = self.out_layer(X)\n",
    "        prediction_mean = X.squeeze(-1)\n",
    "\n",
    "        \"\"\"\n",
    "        with pyro.plate(\"observations\"):\n",
    "            y = pyro.sample(\"obs\", dist.Categorical(logits=alpha + X.matmul(beta)), obs=y)\n",
    "        \"\"\"\n",
    "\n",
    "        with pyro.plate(\"observations\"):\n",
    "            y = pyro.sample(\"obs\", dist.Bernoulli(logits=prediction_mean), obs=y)\n",
    "            \n",
    "        return y"
   ]
  },
  {
   "cell_type": "code",
   "execution_count": 4,
   "metadata": {},
   "outputs": [],
   "source": [
    "X = torch.tensor(X_train.astype('float')).float()\n",
    "y = torch.tensor(y_train).float()\n"
   ]
  },
  {
   "cell_type": "code",
   "execution_count": 5,
   "metadata": {},
   "outputs": [],
   "source": [
    "# Define guide function\n",
    "model = FFNN(n_in=X.shape[1], n_hidden=4, n_out=1)\n",
    "guide = AutoDiagonalNormal(model)\n",
    "pyro.clear_param_store()"
   ]
  },
  {
   "cell_type": "code",
   "execution_count": 6,
   "metadata": {},
   "outputs": [
    {
     "name": "stdout",
     "output_type": "stream",
     "text": [
      "[0] ELBO: 1000.9\n",
      "[1000] ELBO: 413.5\n",
      "[2000] ELBO: 380.1\n",
      "[3000] ELBO: 362.1\n",
      "[4000] ELBO: 362.2\n",
      "[5000] ELBO: 340.5\n",
      "[6000] ELBO: 336.8\n",
      "[7000] ELBO: 354.6\n",
      "[8000] ELBO: 357.6\n",
      "[9000] ELBO: 340.1\n",
      "[10000] ELBO: 327.3\n",
      "[11000] ELBO: 349.4\n",
      "[12000] ELBO: 351.1\n",
      "[13000] ELBO: 380.2\n",
      "[14000] ELBO: 352.0\n",
      "[15000] ELBO: 360.1\n",
      "[16000] ELBO: 333.9\n",
      "[17000] ELBO: 368.5\n",
      "[18000] ELBO: 375.1\n",
      "[19000] ELBO: 326.3\n"
     ]
    }
   ],
   "source": [
    "# Define the number of optimization steps\n",
    "n_steps = 20000\n",
    "\n",
    "# Setup the optimizer\n",
    "adam_params = {\"lr\": 0.01}\n",
    "optimizer = Adam(adam_params)\n",
    "\n",
    "# Setup the inference algorithm\n",
    "elbo = Trace_ELBO(num_particles=1)\n",
    "svi = SVI(model, guide, optimizer, loss=elbo)\n",
    "\n",
    "# Do gradient steps\n",
    "for step in range(n_steps):\n",
    "    elbo = svi.step(X, y)\n",
    "    if step % 1000 == 0:\n",
    "        print(\"[%d] ELBO: %.1f\" % (step, elbo))"
   ]
  },
  {
   "cell_type": "code",
   "execution_count": 9,
   "metadata": {},
   "outputs": [
    {
     "ename": "AttributeError",
     "evalue": "'Tensor' object has no attribute 'astype'",
     "output_type": "error",
     "traceback": [
      "\u001b[0;31m---------------------------------------------------------------------------\u001b[0m",
      "\u001b[0;31mAttributeError\u001b[0m                            Traceback (most recent call last)",
      "Cell \u001b[0;32mIn[9], line 2\u001b[0m\n\u001b[1;32m      1\u001b[0m \u001b[38;5;66;03m# Prepare test data for Pyro\u001b[39;00m\n\u001b[0;32m----> 2\u001b[0m X_test_tensor \u001b[38;5;241m=\u001b[39m torch\u001b[38;5;241m.\u001b[39mtensor(\u001b[43mX_test\u001b[49m\u001b[38;5;241;43m.\u001b[39;49m\u001b[43mastype\u001b[49m(\u001b[38;5;124m'\u001b[39m\u001b[38;5;124mfloat\u001b[39m\u001b[38;5;124m'\u001b[39m))\u001b[38;5;241m.\u001b[39mfloat()\n\u001b[1;32m      4\u001b[0m \u001b[38;5;28;01mfrom\u001b[39;00m \u001b[38;5;21;01mpyro\u001b[39;00m\u001b[38;5;21;01m.\u001b[39;00m\u001b[38;5;21;01minfer\u001b[39;00m \u001b[38;5;28;01mimport\u001b[39;00m Predictive\n\u001b[1;32m      5\u001b[0m predictive \u001b[38;5;241m=\u001b[39m Predictive(model, guide\u001b[38;5;241m=\u001b[39mguide, num_samples\u001b[38;5;241m=\u001b[39m\u001b[38;5;241m1000\u001b[39m,\n\u001b[1;32m      6\u001b[0m                         return_sites\u001b[38;5;241m=\u001b[39m(\u001b[38;5;124m\"\u001b[39m\u001b[38;5;124mobs\u001b[39m\u001b[38;5;124m\"\u001b[39m, \u001b[38;5;124m\"\u001b[39m\u001b[38;5;124m_RETURN\u001b[39m\u001b[38;5;124m\"\u001b[39m))\n",
      "\u001b[0;31mAttributeError\u001b[0m: 'Tensor' object has no attribute 'astype'"
     ]
    }
   ],
   "source": [
    "# Prepare test data for Pyro\n",
    "X_test_tensor = torch.tensor(X_test.astype('float')).float()\n",
    "\n",
    "from pyro.infer import Predictive\n",
    "predictive = Predictive(model, guide=guide, num_samples=1000,\n",
    "                        return_sites=(\"obs\", \"_RETURN\"))\n",
    "samples = predictive(X_test_tensor)\n",
    "\n",
    "samples = samples['obs'].detach().squeeze()\n",
    "y_hat = np.round(samples.mean(axis=0).numpy())\n",
    "\n",
    "mae = np.mean(np.abs(y_test - y_hat))\n",
    "print(\"MAE:\", mae)\n",
    "print(\"Accuracy:\", 1.0*np.sum((y_hat) == y_test) / len(y_test))\n"
   ]
  }
 ],
 "metadata": {
  "kernelspec": {
   "display_name": "base",
   "language": "python",
   "name": "python3"
  },
  "language_info": {
   "codemirror_mode": {
    "name": "ipython",
    "version": 3
   },
   "file_extension": ".py",
   "mimetype": "text/x-python",
   "name": "python",
   "nbconvert_exporter": "python",
   "pygments_lexer": "ipython3",
   "version": "3.9.18"
  }
 },
 "nbformat": 4,
 "nbformat_minor": 2
}
